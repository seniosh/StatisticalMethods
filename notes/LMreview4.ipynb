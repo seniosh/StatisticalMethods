{
 "cells": [
  {
   "cell_type": "markdown",
   "metadata": {},
   "source": [
    "# Review of the linear model\n",
    "\n",
    "#### To begin playing with the guts of MCMC sampling, we'll use a distribution that we already know analytically, namely the posterior from fitting a linear model to data with Gaussian uncertainites. First, let's review the generative model for this case. This can be expressed as\n",
    "$y_i \\sim \\mathrm{Normal}\\left(a + b x_i, \\sigma_i^2\\right)$\n",
    "#### for each data point, $(x_i,y_i)$.\n",
    "> Note: this is an alternative and more compact notation for writing that $P(y_i|x_i,a,b)$ is Gaussian with mean $a+b x_i$ and width $\\sigma$.\n",
    "\n",
    "#### In words, the $y_i$ associated with each $x_i$ has an expectation value that lies along a line ($a+bx$), but actual values $y_i$ are scattered from this line according to a Guassian of width $\\sigma_i$. To keep things simple, we'll assume that the $x_i$ and $\\sigma_i$ are known precisely. The equation above doesn't say anything about how the $x_i$ and $\\sigma_i$ are distributed; for this case let's just assume\n",
    "$x_i \\sim \\mathrm{Normal}(\\mu_x, \\tau_x^2)$\n",
    "\n",
    "$\\sigma_i = s \\mathrm{~(constant)}$\n",
    "#### for some $\\mu_x$ ,$\\tau_x$ and $s$ that we choose.\n",
    "\n",
    "#### Let's now generate a fake data set."
   ]
  },
  {
   "cell_type": "code",
   "execution_count": 41,
   "metadata": {
    "collapsed": false
   },
   "outputs": [],
   "source": [
    "import numpy as np\n",
    "import matplotlib.pyplot as plt\n",
    "%matplotlib inline\n",
    "plt.rcParams['figure.figsize'] = (8.0, 8.0) \n",
    "\n",
    "# the model parameters\n",
    "a = np.pi\n",
    "b = 1.6818\n",
    "\n",
    "# my arbitrary constants\n",
    "mu_x = np.exp(1.0) # see definitions above\n",
    "tau_x = 1.0\n",
    "s = 1.0\n",
    "N = 50 # number of data points\n",
    "\n",
    "# get some x's and y's\n",
    "x = mu_x + tau_x*np.random.randn(N)\n",
    "y = a + b*x + s*np.random.randn(N)"
   ]
  },
  {
   "cell_type": "code",
   "execution_count": 42,
   "metadata": {
    "collapsed": false
   },
   "outputs": [
    {
     "data": {
      "image/png": "[encoded data removed]",
      "text/plain": [
       "<matplotlib.figure.Figure at 0x106a7ebd0>"
      ]
     },
     "metadata": {},
     "output_type": "display_data"
    }
   ],
   "source": [
    "plt.plot(x, y, 'o');"
   ]
  },
  {
   "cell_type": "markdown",
   "metadata": {},
   "source": [
    "#### Provided we claim to know the scatter perfectly(!), the likelihood function is both simple and familiar:\n",
    "$\\ln L = \\sum_i -\\frac{1}{2}\\left(a+b x_i - y_i\\right)^2$ + constant\n",
    "\n",
    "#### On Tuesday, you saw that this problem has an exact solution if we take uniform, improper priors, namely the classical Ordinary Least Squares solution. In (matrix) equations,\n",
    "$\\left(\\begin{array}{c}a\\\\b\\end{array}\\right) \\sim \\mathrm{Normal}\\left[\\left(X^\\mathrm{T}X\\right)^{-1}X^\\mathrm{T}y, \\left(X^\\mathrm{T}X\\right)^{-1}\\right]$, where $X = \\left(1 ~~ x\\right)$.\n",
    "\n",
    "#### Let's spell this out in code, although note that direct inversion as done below is *NOT* the most numerically stable/preferable way to evaluate these expressions in the real world, but it will do for our purposes. First, we define $X$ and $y$ as matrices of the appropriate shape."
   ]
  },
  {
   "cell_type": "code",
   "execution_count": 68,
   "metadata": {
    "collapsed": false
   },
   "outputs": [],
   "source": [
    "X = np.matrix(np.vstack([np.ones(len(x)), x]).T)\n",
    "Y = np.matrix(y).T"
   ]
  },
  {
   "cell_type": "markdown",
   "metadata": {},
   "source": [
    "#### Now evaluate the mean of the distribution above:"
   ]
  },
  {
   "cell_type": "code",
   "execution_count": 67,
   "metadata": {
    "collapsed": false
   },
   "outputs": [
    {
     "data": {
      "text/plain": [
       "matrix([[ 3.14488706],\n",
       "        [ 1.65315013]])"
      ]
     },
     "execution_count": 67,
     "metadata": {},
     "output_type": "execute_result"
    }
   ],
   "source": [
    "np.linalg.inv(X.T*X)*X.T*Y"
   ]
  },
  {
   "cell_type": "markdown",
   "metadata": {},
   "source": [
    "#### Compare to the built-in `numpy` least squares result:"
   ]
  },
  {
   "cell_type": "code",
   "execution_count": 59,
   "metadata": {
    "collapsed": false
   },
   "outputs": [
    {
     "data": {
      "text/plain": [
       "array([ 3.14488706,  1.65315013])"
      ]
     },
     "execution_count": 59,
     "metadata": {},
     "output_type": "execute_result"
    }
   ],
   "source": [
    "np.linalg.lstsq(X, y)[0]"
   ]
  },
  {
   "cell_type": "markdown",
   "metadata": {},
   "source": [
    "#### We also care about the posterior covariance of $a$ and $b$:"
   ]
  },
  {
   "cell_type": "code",
   "execution_count": 69,
   "metadata": {
    "collapsed": false
   },
   "outputs": [
    {
     "data": {
      "text/plain": [
       "matrix([[ 0.24229537, -0.07911928],\n",
       "        [-0.07911928,  0.0281601 ]])"
      ]
     },
     "execution_count": 69,
     "metadata": {},
     "output_type": "execute_result"
    }
   ],
   "source": [
    "np.linalg.inv(X.T*X)"
   ]
  },
  {
   "cell_type": "markdown",
   "metadata": {},
   "source": [
    "#### With these tools in hand, we now have an exact solution to compare to our MCMC algorithms, to make sure that they're working properly!"
   ]
  }
 ],
 "metadata": {
  "kernelspec": {
   "display_name": "Python 3",
   "language": "python",
   "name": "python3"
  },
  "language_info": {
   "codemirror_mode": {
    "name": "ipython",
    "version": 3
   },
   "file_extension": ".py",
   "mimetype": "text/x-python",
   "name": "python",
   "nbconvert_exporter": "python",
   "pygments_lexer": "ipython3",
   "version": "3.4.3"
  }
 },
 "nbformat": 4,
 "nbformat_minor": 0
}
