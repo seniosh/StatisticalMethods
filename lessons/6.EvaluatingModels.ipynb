{
 "cells": [
  {
   "cell_type": "markdown",
   "metadata": {},
   "source": [
    "# PHYS366: Statistical Methods in Astrophysics\n",
    "\n",
    "\n",
    "# Lesson 6: Inference in Practice: Evaluating Models"
   ]
  },
  {
   "cell_type": "markdown",
   "metadata": {},
   "source": [
    "### Goals for this session:\n",
    "\n",
    "* Design and carry out a posterior predictive model check, and describe its relationship to a classical significance test\n",
    "\n",
    "* Recognize the Bayesian Evidence, know how it is computed, and describe the difference between a Bayes Factor and a likelihood ratio\n",
    "\n",
    "* Assign priors in various different ways\n",
    "\n",
    "* Be able to carry out cross-validation to check the prediction accuracy of a model   \n",
    " \n",
    " \n",
    "#### Related reading:\n",
    "\n",
    "* Gelman et al\n",
    "\n",
    "* Mackay"
   ]
  },
  {
   "cell_type": "markdown",
   "metadata": {
    "collapsed": true
   },
   "source": [
    "## Model Checking in the Straight Line Problem\n",
    "\n",
    "* Let's revisit the straight line problem\n",
    "\n",
    "\n",
    "* Inferring model parameters involves making assumptions. Let's test those assumptions by checking the model for the accuracy of its predictions."
   ]
  },
  {
   "cell_type": "markdown",
   "metadata": {
    "collapsed": true
   },
   "source": [
    "## Model Expansion and Comparison \n",
    "\n",
    "* Having thought of an alternative model, how should we compare it to our first one? Accuracy is not the only consideration: efficiency is also important.\n",
    "\n",
    "\n",
    "* The Bayesian Evidence can be used to good effect in model comparison. It depends on the priors we assume - so let's go back and look at prior assignment in more detail.\n",
    "\n",
    "\n",
    "* How is model comparison with the Bayesian evidence related to classical hypothesis testing? Let's look at an example: feature detection."
   ]
  },
  {
   "cell_type": "markdown",
   "metadata": {
    "collapsed": true
   },
   "source": [
    "## Model Comparison in Machine Learning\n",
    "\n",
    "* In machine learning the method of \"cross validation\" is often used to assess model accuracy and efficiency (although it is less sensitive to the prior than the Bayesian evidence). Let's see what cross validation involves."
   ]
  },
  {
   "cell_type": "markdown",
   "metadata": {
    "collapsed": true
   },
   "source": [
    "## Recap\n",
    "\n",
    "* What did we learn?"
   ]
  }
 ],
 "metadata": {
  "kernelspec": {
   "display_name": "Python 2",
   "language": "python",
   "name": "python2"
  },
  "language_info": {
   "codemirror_mode": {
    "name": "ipython",
    "version": 2
   },
   "file_extension": ".py",
   "mimetype": "text/x-python",
   "name": "python",
   "nbconvert_exporter": "python",
   "pygments_lexer": "ipython2",
   "version": "2.7.10"
  }
 },
 "nbformat": 4,
 "nbformat_minor": 0
}
